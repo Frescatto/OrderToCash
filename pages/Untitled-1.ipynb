{
 "cells": [
  {
   "cell_type": "code",
   "execution_count": 6,
   "id": "6fadd2e2",
   "metadata": {},
   "outputs": [],
   "source": [
    "import pandas as pd\n",
    "import numpy as np\n",
    "import plotly.express as px\n",
    "import plotly.io as pio\n",
    "import streamlit as st\n",
    "\n",
    "pd.set_option('display.max_columns', None)\n",
    "\n",
    "# Carrega o DataFrame do seu arquivo Excel\n",
    "df = pd.read_excel('dados0408.xlsx')\n",
    "\n",
    "from datetime import datetime\n",
    "\n",
    "now = datetime.now()\n",
    "\n",
    "colunas_selecionadas = ['FILIAL', 'PEDIDO', 'DATA EMISSAO PEDIDO', 'HORA EMISSAO PEDIDO', 'DATA ASS REMESSA', 'HORA ASS REMESSA',\n",
    "                        'DATA PREPARACAO DO ITEM', 'HORA PREPARACAO DO ITEM', 'DATA GERACAO DA NOTA FISCAL', 'HORA GERACAO DA NOTA FISCAL',\n",
    "                        'DATA GERACAO DO REGISTRO', 'HORA GERACAO DO REGISTRO'] \n",
    "\n",
    "df_trabalho = df[colunas_selecionadas].copy()"
   ]
  },
  {
   "cell_type": "code",
   "execution_count": 18,
   "id": "e5d1c7c9",
   "metadata": {},
   "outputs": [],
   "source": [
    "df_trabalho['DATA EMISSAO PEDIDO'] = pd.to_datetime(df_trabalho['DATA EMISSAO PEDIDO'], errors='coerce', dayfirst=True)\n",
    "df_trabalho['HORA EMISSAO PEDIDO'] = pd.to_datetime(df['HORA EMISSAO PEDIDO'], format='%H:%M:%S', errors='coerce').dt.time\n",
    "df_trabalho['DATA ASS REMESSA'] = pd.to_datetime(df_trabalho['DATA ASS REMESSA'], errors='coerce', dayfirst=True)\n",
    "df_trabalho['HORA ASS REMESSA'] = pd.to_datetime(df['HORA ASS REMESSA'], format='%H:%M:%S', errors='coerce').dt.time\n",
    "df_trabalho['DATA PREPARACAO DO ITEM'] = pd.to_datetime(df_trabalho['DATA PREPARACAO DO ITEM'], errors='coerce', dayfirst=True)\n",
    "df_trabalho['HORA PREPARACAO DO ITEM'] = pd.to_datetime(df_trabalho['HORA PREPARACAO DO ITEM'], format='%H:%M:%S', errors='coerce').dt.time\n",
    "df_trabalho['DATA GERACAO DO REGISTRO'] = pd.to_datetime(df_trabalho['DATA GERACAO DO REGISTRO'], errors='coerce', dayfirst=True)\n",
    "df_trabalho['HORA GERACAO DO REGISTRO'] = pd.to_datetime(df_trabalho['HORA GERACAO DO REGISTRO'], format='%H:%M:%S', errors='coerce').dt.time"
   ]
  },
  {
   "cell_type": "code",
   "execution_count": 19,
   "id": "94f8d8fb",
   "metadata": {},
   "outputs": [],
   "source": [
    "# Função auxiliar para combinar data e hora, lidando com nulos\n",
    "def combinar_data_hora(data, hora):\n",
    "    if pd.isna(data) or pd.isna(hora): # Verifica se data OU hora são nulas\n",
    "        return pd.NaT # Retorna NaT (Not a Time) se alguma for nula\n",
    "    try:\n",
    "        # Combina o ano, mês, dia da data com hora, minuto, segundo da hora\n",
    "        return pd.to_datetime(f\"{data.year}-{data.month}-{data.day} {hora.hour}:{hora.minute}:{hora.second}\")\n",
    "    except:\n",
    "        return pd.NaT # Retorna NaT se houver algum erro inesperado na combinação\n"
   ]
  },
  {
   "cell_type": "code",
   "execution_count": 34,
   "id": "691eb160",
   "metadata": {},
   "outputs": [
    {
     "name": "stdout",
     "output_type": "stream",
     "text": [
      "   PEDIDO    TIMESTAMP PEDIDO   TIMESTAMP REMESSA      TIMESTAMP ITEM  \\\n",
      "0    3305 2025-04-08 12:47:00 2025-04-08 12:50:00 2025-04-08 14:56:00   \n",
      "1    3305 2025-04-08 12:47:00 2025-04-08 12:50:00 2025-04-08 14:56:00   \n",
      "2    3305 2025-04-08 12:47:00 2025-04-08 12:50:00 2025-04-08 14:56:00   \n",
      "3    3305 2025-04-08 12:47:00 2025-04-08 12:50:00 2025-04-08 14:56:00   \n",
      "4    3305 2025-04-08 12:47:00 2025-04-08 12:50:00 2025-04-08 14:56:00   \n",
      "\n",
      "     TIMESTAMP TITULO  \n",
      "0 2025-04-08 16:08:00  \n",
      "1 2025-04-08 16:08:00  \n",
      "2 2025-04-08 16:08:00  \n",
      "3 2025-04-08 16:08:00  \n",
      "4 2025-04-08 16:08:00  \n"
     ]
    }
   ],
   "source": [
    "df_trabalho['TIMESTAMP PEDIDO'] = df_trabalho.apply(lambda row: combinar_data_hora(row['DATA EMISSAO PEDIDO'], row['HORA EMISSAO PEDIDO']), axis=1)\n",
    "df_trabalho['TIMESTAMP REMESSA'] = df_trabalho.apply(lambda row: combinar_data_hora(row['DATA ASS REMESSA'], row['HORA ASS REMESSA']), axis=1)\n",
    "df_trabalho['TIMESTAMP ITEM'] = df_trabalho.apply(lambda row: combinar_data_hora(row['DATA PREPARACAO DO ITEM'], row['HORA PREPARACAO DO ITEM']), axis=1)\n",
    "df_trabalho['TIMESTAMP TITULO'] = df_trabalho.apply(lambda row: combinar_data_hora(row['DATA GERACAO DO REGISTRO'], row['HORA GERACAO DO REGISTRO']), axis=1)\n",
    "\n",
    "print(df_trabalho[['PEDIDO','TIMESTAMP PEDIDO', 'TIMESTAMP REMESSA', 'TIMESTAMP ITEM', 'TIMESTAMP TITULO']].head())"
   ]
  },
  {
   "cell_type": "code",
   "execution_count": 35,
   "id": "b39c0334",
   "metadata": {},
   "outputs": [],
   "source": [
    "# Lista das colunas de timestamp para facilitar o tratamento\n",
    "timestamp_cols = ['TIMESTAMP PEDIDO', 'TIMESTAMP REMESSA', 'TIMESTAMP ITEM', 'TIMESTAMP TITULO']\n",
    "\n",
    "for col in timestamp_cols:\n",
    "    # Converte a coluna para o tipo datetime, permitindo que datas inválidas se tornem NaT\n",
    "    df_trabalho[col] = pd.to_datetime(df_trabalho[col], errors='coerce')\n",
    "    \n",
    "    # Substitui os valores com ano 1900 por NaT\n",
    "    df_trabalho.loc[df_trabalho[col].dt.year == 1900, col] = np.nan\n",
    "    \n",
    "    # Substitui valores nulos (NaN, NaT) por None, que é a representação de ausência no Python\n",
    "    df_trabalho[col] = df_trabalho[col].apply(lambda x: None if pd.isna(x) else x)"
   ]
  },
  {
   "cell_type": "code",
   "execution_count": 36,
   "id": "b9592469",
   "metadata": {},
   "outputs": [
    {
     "name": "stdout",
     "output_type": "stream",
     "text": [
      "      PEDIDO STATUS PEDIDO STATUS REMESSA STATUS ITEM STATUS TITULO\n",
      "6670  672050     Concluído       Pendente    Pendente      Pendente\n",
      "6671  687350     Concluído      Concluído    Pendente      Pendente\n",
      "6672  686913     Concluído      Concluído    Pendente      Pendente\n",
      "6673  687017     Concluído      Concluído    Pendente      Pendente\n",
      "6674  192793     Concluído       Pendente    Pendente      Pendente\n"
     ]
    }
   ],
   "source": [
    "# Cria um dicionário para mapear as colunas de timestamp para as novas colunas de status\n",
    "status_cols_map = {\n",
    "    'TIMESTAMP PEDIDO': 'STATUS PEDIDO',\n",
    "    'TIMESTAMP REMESSA': 'STATUS REMESSA',\n",
    "    'TIMESTAMP ITEM': 'STATUS ITEM',\n",
    "    'TIMESTAMP TITULO': 'STATUS TITULO'\n",
    "}\n",
    "\n",
    "# Itera sobre cada coluna de timestamp e cria a coluna de status correspondente\n",
    "for ts_col, status_col in status_cols_map.items():\n",
    "    # Usa np.where para criar a coluna de status\n",
    "    # Se o valor na coluna de timestamp não for nulo (isnull() == False), o status é 'Concluído'\n",
    "    # Caso contrário, o status é 'Pendente'\n",
    "    df_trabalho[status_col] = df_trabalho[ts_col].notnull().apply(\n",
    "        lambda x: 'Concluído' if x else 'Pendente'\n",
    "    )\n",
    "\n",
    "# Visualiza o resultado para as colunas de timestamp e status\n",
    "print(df_trabalho[['PEDIDO', 'STATUS PEDIDO','STATUS REMESSA','STATUS ITEM','STATUS TITULO']].tail())"
   ]
  }
 ],
 "metadata": {
  "kernelspec": {
   "display_name": "Python 3",
   "language": "python",
   "name": "python3"
  },
  "language_info": {
   "codemirror_mode": {
    "name": "ipython",
    "version": 3
   },
   "file_extension": ".py",
   "mimetype": "text/x-python",
   "name": "python",
   "nbconvert_exporter": "python",
   "pygments_lexer": "ipython3",
   "version": "3.13.5"
  }
 },
 "nbformat": 4,
 "nbformat_minor": 5
}
